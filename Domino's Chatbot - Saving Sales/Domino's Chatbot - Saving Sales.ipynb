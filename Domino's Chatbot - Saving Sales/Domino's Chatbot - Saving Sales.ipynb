{
 "cells": [
  {
   "cell_type": "code",
   "execution_count": 45,
   "id": "65ea6c38",
   "metadata": {},
   "outputs": [
    {
     "name": "stdout",
     "output_type": "stream",
     "text": [
      "Hello! Welcome to Dominos!\n",
      "What pizza do you want?\n",
      "\n",
      "\n",
      "{1: {'name': 'ExtraVegenza', 'price_lr': 550, 'price_md': 250, 'price_rg': 99}, 2: {'name': 'Cloud 9', 'price_lr': 650, 'price_md': 350, 'price_rg': 149}, 3: {'name': 'Peppy Paneer', 'price_lr': 750, 'price_md': 450, 'price_rg': 199}, 4: {'name': '5 Pepper', 'price_lr': 850, 'price_md': 550, 'price_rg': 249}, 5: {'name': 'Farmhouse', 'price_lr': 950, 'price_md': 650, 'price_rg': 299}}\n",
      "\n",
      "\n",
      "Enter your choice of pizza  : 3\n",
      "What should be the size     : 3\n",
      "How many pizza do you want  : 3\n",
      "----------------------\n",
      "Name           :  Peppy Paneer\n",
      "Price          :  199\n",
      "Quantity       :  3\n",
      "----------------------\n",
      "Billing Amount :  597\n",
      "----------------------\n",
      "Enter your name      : sdf\n",
      "Enter your mail_id   : fdgd\n",
      "Enter your Phone no  : 32423\n",
      "Enter full address: 5345232dfsfs\n"
     ]
    }
   ],
   "source": [
    "print('Hello! Welcome to Dominos!')\n",
    "print('What pizza do you want?')\n",
    "\n",
    "pizza = {1 : {'name' : 'ExtraVegenza', 'price_lr' : 550,'price_md' : 250, 'price_rg' : 99},\n",
    "         2 : {'name' : 'Cloud 9'     , 'price_lr' : 650,'price_md' : 350, 'price_rg' : 149},\n",
    "         3 : {'name' : 'Peppy Paneer', 'price_lr' : 750,'price_md' : 450, 'price_rg' : 199},\n",
    "         4 : {'name' : '5 Pepper'    , 'price_lr' : 850,'price_md' : 550, 'price_rg' : 249},\n",
    "         5 : {'name' : 'Farmhouse'   , 'price_lr' : 950,'price_md' : 650, 'price_rg' : 299}}\n",
    "\n",
    "size = {1 : 'price_lr', 2 : 'price_md', 3 : 'price_rg'}\n",
    "\n",
    "print('\\n')\n",
    "print(pizza)\n",
    "print('\\n')\n",
    "\n",
    "ui_pz = int(input(\"Enter your choice of pizza  : \"))\n",
    "ui_sz = int(input(\"What should be the size     : \"))\n",
    "ui_qn = int(input(\"How many pizza do you want  : \"))\n",
    "\n",
    "print(\"----------------------\")\n",
    "print(\"Name           : \", pizza[ui_pz]['name'])\n",
    "print(\"Price          : \", pizza[ui_pz][size[ui_sz]])\n",
    "print(\"Quantity       : \", ui_qn)\n",
    "print(\"----------------------\")\n",
    "print(\"Billing Amount : \", ui_qn * pizza[ui_pz][size[ui_sz]])\n",
    "print(\"----------------------\")\n",
    "\n",
    "ui_name =     input(\"Enter your name      : \")\n",
    "ui_mail =     input(\"Enter your mail_id   : \")\n",
    "ui_Phno = int(input(\"Enter your Phone no  : \"))\n",
    "\n",
    "del_addr = input(\"Enter full address: \")\n",
    "\n",
    "record = pizza[ui_pz]['name'] +\",\"+ str(pizza[ui_pz][size[ui_sz]]) +\",\"+str(ui_qn)+\",\"+str(ui_qn * pizza[ui_pz][size[ui_sz]])+\"\\n\""
   ]
  },
  {
   "cell_type": "code",
   "execution_count": 47,
   "id": "3908b148",
   "metadata": {},
   "outputs": [],
   "source": [
    "fd = open('Sales.txt', 'w')\n",
    "\n",
    "fd.write(record)\n",
    "\n",
    "fd.close()"
   ]
  },
  {
   "cell_type": "code",
   "execution_count": null,
   "id": "3f3ee91e",
   "metadata": {},
   "outputs": [],
   "source": []
  }
 ],
 "metadata": {
  "kernelspec": {
   "display_name": "Python 3",
   "language": "python",
   "name": "python3"
  },
  "language_info": {
   "codemirror_mode": {
    "name": "ipython",
    "version": 3
   },
   "file_extension": ".py",
   "mimetype": "text/x-python",
   "name": "python",
   "nbconvert_exporter": "python",
   "pygments_lexer": "ipython3",
   "version": "3.8.8"
  }
 },
 "nbformat": 4,
 "nbformat_minor": 5
}
