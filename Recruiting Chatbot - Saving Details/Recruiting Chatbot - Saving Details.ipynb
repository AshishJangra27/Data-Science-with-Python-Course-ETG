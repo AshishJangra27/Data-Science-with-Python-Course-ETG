{
 "cells": [
  {
   "cell_type": "code",
   "execution_count": 28,
   "id": "81a7048a",
   "metadata": {},
   "outputs": [
    {
     "name": "stdout",
     "output_type": "stream",
     "text": [
      "Hello and welcome to Awesome Jobs.\n",
      "We will together find a better job for you.\n",
      "\n",
      "\n",
      "------------------------\n",
      "Q1. Tell me, what is your full name?\n",
      "Ashish\n",
      "Q2. Which city are you from?\n",
      "Delhi\n",
      "Q3. What's your gender?\n",
      "Male\n",
      "Q4. What's your age?\n",
      "22\n",
      "------------------------\n",
      "\n",
      "\n",
      "This is exciting.\n",
      "I already have found more than 300 jobs that you might like.\n",
      "\n",
      "------------------------\n",
      "1 - Software Engineer\n",
      "2 - Web Developers\n",
      "3 - Android Developers\n",
      "4 - AI Engineers\n",
      "5 - Data Scientists\n",
      "------------------------\n",
      "\n",
      "Press any of the following number: 5\n",
      "------------------------\n",
      "1 - 5  - 8\n",
      "2 - 8  - 10\n",
      "3 - 10 - 12\n",
      "4 - 12 - 15\n",
      "5 - 15 - 20\n",
      "------------------------\n",
      "\n",
      "Q6. What is your monthly salary expectations(in CTC)?\n",
      "4\n"
     ]
    }
   ],
   "source": [
    "print(\"Hello and welcome to Awesome Jobs.\")\n",
    "print('We will together find a better job for you.\\n')\n",
    "\n",
    "\n",
    "print(\"\\n------------------------\")\n",
    "name = input('Q1. Tell me, what is your full name?\\n')\n",
    "city = input('Q2. Which city are you from?\\n')\n",
    "gend = input(\"Q3. What's your gender?\\n\")\n",
    "age  = input(\"Q4. What's your age?\\n\")\n",
    "print(\"------------------------\")\n",
    "\n",
    "print(\"\\n\")\n",
    "print(\"This is exciting.\")\n",
    "print(\"I already have found more than 300 jobs that you might like.\\n\")\n",
    "\n",
    "print(\"------------------------\")\n",
    "for i in jobs.keys():\n",
    "    print(i, \":\" ,jobs[i])\n",
    "print(\"------------------------\\n\")\n",
    "\n",
    "job = jobs[int(input(\"Press any of the following number: \"))]\n",
    "\n",
    "\n",
    "print(\"------------------------\")\n",
    "for i in salaries.keys():\n",
    "    print(i, \":\" ,salaries[i])\n",
    "print(\"------------------------\\n\")\n",
    "\n",
    "salary = salaries[int(input(\"Q6. What is your monthly salary expectations(in CTC)?\\n\"))]"
   ]
  },
  {
   "cell_type": "code",
   "execution_count": 38,
   "id": "9762293a",
   "metadata": {},
   "outputs": [
    {
     "name": "stdout",
     "output_type": "stream",
     "text": [
      "----------------User Details---------------\n",
      "Name                 :  Ashish\n",
      "Age                  :  22\n",
      "Gender               :  Male\n",
      "City                 :  Delhi\n",
      "Job Role             :  Data Scientists\n",
      "Salary Expectations  :  12 - 15\n",
      "--------------------------------------------\n"
     ]
    }
   ],
   "source": [
    "print(\"----------------User Details---------------\")\n",
    "\n",
    "print(\"Name                 : \",name)\n",
    "print(\"Age                  : \",age)\n",
    "print(\"Gender               : \",gend)\n",
    "print(\"City                 : \",city)\n",
    "print(\"Job Role             : \",job)\n",
    "print(\"Salary Expectations  : \",salary)\n",
    "print(\"--------------------------------------------\")"
   ]
  },
  {
   "cell_type": "code",
   "execution_count": 27,
   "id": "bdf9023e",
   "metadata": {},
   "outputs": [],
   "source": [
    "jobs = {1 : \"Software Engineer\",\n",
    "        2 : \"Web Developers\",\n",
    "        3 : \"Android Developers\",\n",
    "        4 : \"AI Engineers\",\n",
    "        5 : \"Data Scientists\"}\n",
    "\n",
    "salaries = {1 : \"5  - 8\",\n",
    "            2 : \"8  - 10\",\n",
    "            3 : \"10 - 12\",\n",
    "            4 : \"12 - 15\",\n",
    "            5 : \"15 - 20\"}\n",
    "\n",
    "\n",
    "database = {1 : {'Job' : \"Software Engineer\" , \"Company\" : \"Google\"   , \"Salary\" : \"10 - 12\"},\n",
    "            2 : {'Job' : \"Data Scientists\"   , \"Company\" : \"ETG\"      , \"Salary\" : \"10 - 12\"},\n",
    "            3 : {'Job' : \"Web Developers\"    , \"Company\" : \"Apple\"    , \"Salary\" : \"12 - 15\"},\n",
    "            4 : {'Job' : \"AI Engineers\"      , \"Company\" : \"Microsoft\", \"Salary\" : \"8  - 10\"},\n",
    "            5 : {'Job' : \"Android Developers\", \"Company\" : \"NVIDIA\"   , \"Salary\" : \"5  - 8\"}}"
   ]
  },
  {
   "cell_type": "code",
   "execution_count": 13,
   "id": "d16d3317",
   "metadata": {},
   "outputs": [
    {
     "name": "stdout",
     "output_type": "stream",
     "text": [
      "------------------------\n",
      "1 - Software Engineer\n",
      "2 - Web Developers\n",
      "3 - Android Developers\n",
      "4 - AI Engineers\n",
      "5 - Data Scientists\n",
      "------------------------\n",
      "\n",
      "Press any of the following number.\n",
      "5\n",
      "Data Scientists\n"
     ]
    }
   ],
   "source": [
    "\n",
    "\n",
    "print(jobs[ch])"
   ]
  },
  {
   "cell_type": "code",
   "execution_count": null,
   "id": "2dc4335a",
   "metadata": {},
   "outputs": [],
   "source": []
  }
 ],
 "metadata": {
  "kernelspec": {
   "display_name": "Python 3",
   "language": "python",
   "name": "python3"
  },
  "language_info": {
   "codemirror_mode": {
    "name": "ipython",
    "version": 3
   },
   "file_extension": ".py",
   "mimetype": "text/x-python",
   "name": "python",
   "nbconvert_exporter": "python",
   "pygments_lexer": "ipython3",
   "version": "3.8.8"
  }
 },
 "nbformat": 4,
 "nbformat_minor": 5
}
