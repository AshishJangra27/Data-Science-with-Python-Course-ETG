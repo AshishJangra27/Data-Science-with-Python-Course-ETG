{
 "cells": [
  {
   "cell_type": "code",
   "execution_count": 25,
   "id": "df9c7796",
   "metadata": {},
   "outputs": [
    {
     "name": "stdout",
     "output_type": "stream",
     "text": [
      "Hello! Welcome to Dominos!\n",
      "What pizza do you want?\n"
     ]
    }
   ],
   "source": [
    "print('Hello! Welcome to Dominos!')\n",
    "print('What pizza do you want?')"
   ]
  },
  {
   "cell_type": "code",
   "execution_count": 32,
   "id": "11220802",
   "metadata": {},
   "outputs": [],
   "source": [
    "pizza = {1 : {'name' : 'ExtraVegenza', 'price_lr' : 550,'price_md' : 250, 'price_rg' : 99},\n",
    "         2 : {'name' : 'Cloud 9'     , 'price_lr' : 650,'price_md' : 350, 'price_rg' : 149},\n",
    "         3 : {'name' : 'Peppy Paneer', 'price_lr' : 750,'price_md' : 450, 'price_rg' : 199},\n",
    "         4 : {'name' : '5 Pepper'    , 'price_lr' : 850,'price_md' : 550, 'price_rg' : 249},\n",
    "         5 : {'name' : 'Farmhouse'   , 'price_lr' : 950,'price_md' : 650, 'price_rg' : 299}}"
   ]
  },
  {
   "cell_type": "code",
   "execution_count": 35,
   "id": "ad3ebf24",
   "metadata": {},
   "outputs": [],
   "source": [
    "size = {1 : 'price_lr',\n",
    "        2 : 'price_md',\n",
    "        3 : 'price_rg'}"
   ]
  },
  {
   "cell_type": "code",
   "execution_count": 33,
   "id": "426dba56",
   "metadata": {
    "scrolled": true
   },
   "outputs": [
    {
     "data": {
      "text/plain": [
       "{1: {'name': 'ExtraVegenza', 'price_lr': 550, 'price_md': 250, 'price_rg': 99},\n",
       " 2: {'name': 'Cloud 9', 'price_lr': 650, 'price_md': 350, 'price_rg': 149},\n",
       " 3: {'name': 'Peppy Paneer',\n",
       "  'price_lr': 750,\n",
       "  'price_md': 450,\n",
       "  'price_rg': 199},\n",
       " 4: {'name': '5 Pepper', 'price_lr': 850, 'price_md': 550, 'price_rg': 249},\n",
       " 5: {'name': 'Farmhouse', 'price_lr': 950, 'price_md': 650, 'price_rg': 299}}"
      ]
     },
     "execution_count": 33,
     "metadata": {},
     "output_type": "execute_result"
    }
   ],
   "source": [
    "pizza"
   ]
  },
  {
   "cell_type": "code",
   "execution_count": 41,
   "id": "b0f4c8aa",
   "metadata": {},
   "outputs": [
    {
     "name": "stdout",
     "output_type": "stream",
     "text": [
      "Enter your choice of pizza  : 3\n",
      "What should be the size     : 2\n",
      "How many pizza do you want  : 10\n",
      "Enter your name      : Ashish\n",
      "Enter your mail_id   : dgfdg\n",
      "Enter your Phone no  : 353452344\n",
      "----------------------\n",
      "Name           :  Peppy Paneer\n",
      "Price          :  450\n",
      "Quantity       :  10\n",
      "----------------------\n",
      "Billing Amount :  4500\n",
      "----------------------\n",
      "Enter full address: #1465, Opp jsdhfkdf, fdshfkjshd 13274861\n"
     ]
    }
   ],
   "source": [
    "ui_pz = int(input(\"Enter your choice of pizza  : \"))\n",
    "ui_sz = int(input(\"What should be the size     : \"))\n",
    "ui_qn = int(input(\"How many pizza do you want  : \"))\n",
    "\n",
    "ui_name =     input(\"Enter your name      : \")\n",
    "ui_mail =     input(\"Enter your mail_id   : \")\n",
    "ui_Phno = int(input(\"Enter your Phone no  : \"))\n",
    "\n",
    "print(\"----------------------\")\n",
    "print(\"Name           : \", pizza[ui_pz]['name'])\n",
    "print(\"Price          : \", pizza[ui_pz][size[ui_sz]])\n",
    "print(\"Quantity       : \", ui_qn)\n",
    "print(\"----------------------\")\n",
    "print(\"Billing Amount : \", ui_qn * pizza[ui_pz][size[ui_sz]])\n",
    "print(\"----------------------\")\n",
    "\n",
    "\n",
    "del_addr = input(\"Enter full address: \")"
   ]
  },
  {
   "cell_type": "code",
   "execution_count": 34,
   "id": "9579bee6",
   "metadata": {},
   "outputs": [
    {
     "data": {
      "text/plain": [
       "{'name': 'ExtraVegenza', 'price_lr': 550, 'price_md': 250, 'price_rg': 99}"
      ]
     },
     "execution_count": 34,
     "metadata": {},
     "output_type": "execute_result"
    }
   ],
   "source": [
    "pizza[ui_pz]"
   ]
  },
  {
   "cell_type": "code",
   "execution_count": 39,
   "id": "bb80c231",
   "metadata": {},
   "outputs": [
    {
     "name": "stdout",
     "output_type": "stream",
     "text": [
      "Name     :  ExtraVegenza\n",
      "Price    :  550\n",
      "Quantity :  2\n",
      "Billing Amount :  1100\n"
     ]
    }
   ],
   "source": []
  },
  {
   "cell_type": "code",
   "execution_count": null,
   "id": "dcdb05f3",
   "metadata": {},
   "outputs": [],
   "source": []
  }
 ],
 "metadata": {
  "kernelspec": {
   "display_name": "Python 3",
   "language": "python",
   "name": "python3"
  },
  "language_info": {
   "codemirror_mode": {
    "name": "ipython",
    "version": 3
   },
   "file_extension": ".py",
   "mimetype": "text/x-python",
   "name": "python",
   "nbconvert_exporter": "python",
   "pygments_lexer": "ipython3",
   "version": "3.8.8"
  }
 },
 "nbformat": 4,
 "nbformat_minor": 5
}
