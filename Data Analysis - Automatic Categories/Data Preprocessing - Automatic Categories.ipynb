{
 "cells": [
  {
   "cell_type": "code",
   "execution_count": 20,
   "metadata": {},
   "outputs": [],
   "source": [
    "import pandas as pd\n",
    "import numpy as np"
   ]
  },
  {
   "cell_type": "code",
   "execution_count": 21,
   "metadata": {},
   "outputs": [],
   "source": [
    "df = pd.read_csv('googleplaystore.csv')"
   ]
  },
  {
   "cell_type": "code",
   "execution_count": 22,
   "metadata": {},
   "outputs": [],
   "source": [
    "df.drop(['Last Updated', 'Current Ver', 'Android Ver'], axis = 1, inplace = True)"
   ]
  },
  {
   "cell_type": "code",
   "execution_count": 23,
   "metadata": {},
   "outputs": [],
   "source": [
    "df.dropna(inplace = True)"
   ]
  },
  {
   "cell_type": "code",
   "execution_count": 24,
   "metadata": {},
   "outputs": [
    {
     "data": {
      "text/html": [
       "<div>\n",
       "<style scoped>\n",
       "    .dataframe tbody tr th:only-of-type {\n",
       "        vertical-align: middle;\n",
       "    }\n",
       "\n",
       "    .dataframe tbody tr th {\n",
       "        vertical-align: top;\n",
       "    }\n",
       "\n",
       "    .dataframe thead th {\n",
       "        text-align: right;\n",
       "    }\n",
       "</style>\n",
       "<table border=\"1\" class=\"dataframe\">\n",
       "  <thead>\n",
       "    <tr style=\"text-align: right;\">\n",
       "      <th></th>\n",
       "      <th>App</th>\n",
       "      <th>Category</th>\n",
       "      <th>Rating</th>\n",
       "      <th>Reviews</th>\n",
       "      <th>Size</th>\n",
       "      <th>Installs</th>\n",
       "      <th>Type</th>\n",
       "      <th>Price</th>\n",
       "      <th>Content Rating</th>\n",
       "      <th>Genres</th>\n",
       "    </tr>\n",
       "  </thead>\n",
       "  <tbody>\n",
       "    <tr>\n",
       "      <th>0</th>\n",
       "      <td>Photo Editor &amp; Candy Camera &amp; Grid &amp; ScrapBook</td>\n",
       "      <td>ART_AND_DESIGN</td>\n",
       "      <td>4.1</td>\n",
       "      <td>159</td>\n",
       "      <td>19M</td>\n",
       "      <td>10,000+</td>\n",
       "      <td>Free</td>\n",
       "      <td>0</td>\n",
       "      <td>Everyone</td>\n",
       "      <td>Art &amp; Design</td>\n",
       "    </tr>\n",
       "    <tr>\n",
       "      <th>1</th>\n",
       "      <td>Coloring book moana</td>\n",
       "      <td>ART_AND_DESIGN</td>\n",
       "      <td>3.9</td>\n",
       "      <td>967</td>\n",
       "      <td>14M</td>\n",
       "      <td>500,000+</td>\n",
       "      <td>Free</td>\n",
       "      <td>0</td>\n",
       "      <td>Everyone</td>\n",
       "      <td>Art &amp; Design;Pretend Play</td>\n",
       "    </tr>\n",
       "    <tr>\n",
       "      <th>2</th>\n",
       "      <td>U Launcher Lite – FREE Live Cool Themes, Hide ...</td>\n",
       "      <td>ART_AND_DESIGN</td>\n",
       "      <td>4.7</td>\n",
       "      <td>87510</td>\n",
       "      <td>8.7M</td>\n",
       "      <td>5,000,000+</td>\n",
       "      <td>Free</td>\n",
       "      <td>0</td>\n",
       "      <td>Everyone</td>\n",
       "      <td>Art &amp; Design</td>\n",
       "    </tr>\n",
       "    <tr>\n",
       "      <th>3</th>\n",
       "      <td>Sketch - Draw &amp; Paint</td>\n",
       "      <td>ART_AND_DESIGN</td>\n",
       "      <td>4.5</td>\n",
       "      <td>215644</td>\n",
       "      <td>25M</td>\n",
       "      <td>50,000,000+</td>\n",
       "      <td>Free</td>\n",
       "      <td>0</td>\n",
       "      <td>Teen</td>\n",
       "      <td>Art &amp; Design</td>\n",
       "    </tr>\n",
       "    <tr>\n",
       "      <th>4</th>\n",
       "      <td>Pixel Draw - Number Art Coloring Book</td>\n",
       "      <td>ART_AND_DESIGN</td>\n",
       "      <td>4.3</td>\n",
       "      <td>967</td>\n",
       "      <td>2.8M</td>\n",
       "      <td>100,000+</td>\n",
       "      <td>Free</td>\n",
       "      <td>0</td>\n",
       "      <td>Everyone</td>\n",
       "      <td>Art &amp; Design;Creativity</td>\n",
       "    </tr>\n",
       "  </tbody>\n",
       "</table>\n",
       "</div>"
      ],
      "text/plain": [
       "                                                 App        Category  Rating  \\\n",
       "0     Photo Editor & Candy Camera & Grid & ScrapBook  ART_AND_DESIGN     4.1   \n",
       "1                                Coloring book moana  ART_AND_DESIGN     3.9   \n",
       "2  U Launcher Lite – FREE Live Cool Themes, Hide ...  ART_AND_DESIGN     4.7   \n",
       "3                              Sketch - Draw & Paint  ART_AND_DESIGN     4.5   \n",
       "4              Pixel Draw - Number Art Coloring Book  ART_AND_DESIGN     4.3   \n",
       "\n",
       "  Reviews  Size     Installs  Type Price Content Rating  \\\n",
       "0     159   19M      10,000+  Free     0       Everyone   \n",
       "1     967   14M     500,000+  Free     0       Everyone   \n",
       "2   87510  8.7M   5,000,000+  Free     0       Everyone   \n",
       "3  215644   25M  50,000,000+  Free     0           Teen   \n",
       "4     967  2.8M     100,000+  Free     0       Everyone   \n",
       "\n",
       "                      Genres  \n",
       "0               Art & Design  \n",
       "1  Art & Design;Pretend Play  \n",
       "2               Art & Design  \n",
       "3               Art & Design  \n",
       "4    Art & Design;Creativity  "
      ]
     },
     "execution_count": 24,
     "metadata": {},
     "output_type": "execute_result"
    }
   ],
   "source": [
    "df.head()"
   ]
  },
  {
   "cell_type": "markdown",
   "metadata": {},
   "source": [
    "# Category"
   ]
  },
  {
   "cell_type": "code",
   "execution_count": 25,
   "metadata": {},
   "outputs": [],
   "source": [
    "unique_categories = df['Category'].unique()"
   ]
  },
  {
   "cell_type": "code",
   "execution_count": 48,
   "metadata": {},
   "outputs": [],
   "source": [
    "def categories(name):\n",
    "    \n",
    "    c = 0\n",
    "\n",
    "    for i in df['Category'].values:\n",
    "        if( i == name):\n",
    "            c += 1\n",
    "\n",
    "    return c"
   ]
  },
  {
   "cell_type": "code",
   "execution_count": 49,
   "metadata": {},
   "outputs": [
    {
     "data": {
      "text/plain": [
       "155"
      ]
     },
     "execution_count": 49,
     "metadata": {},
     "output_type": "execute_result"
    }
   ],
   "source": [
    "categories('EDUCATION')"
   ]
  },
  {
   "cell_type": "code",
   "execution_count": 52,
   "metadata": {},
   "outputs": [],
   "source": [
    "dct = {}\n",
    "\n",
    "for i in df['Category'].unique():\n",
    "    \n",
    "    var = categories(i)\n",
    "    dct[i] = var"
   ]
  },
  {
   "cell_type": "code",
   "execution_count": 58,
   "metadata": {},
   "outputs": [
    {
     "data": {
      "text/plain": [
       "1747"
      ]
     },
     "execution_count": 58,
     "metadata": {},
     "output_type": "execute_result"
    }
   ],
   "source": [
    "dct['FAMILY']"
   ]
  },
  {
   "cell_type": "code",
   "execution_count": null,
   "metadata": {},
   "outputs": [],
   "source": []
  },
  {
   "cell_type": "markdown",
   "metadata": {},
   "source": [
    "# Price"
   ]
  },
  {
   "cell_type": "code",
   "execution_count": 59,
   "metadata": {},
   "outputs": [],
   "source": [
    "price = []\n",
    "\n",
    "for i in df['Price'].values:\n",
    "    if ('0' == i):\n",
    "        price.append(0)\n",
    "    else:\n",
    "        price.append(int(float(i[1:]) * 73.5))"
   ]
  },
  {
   "cell_type": "code",
   "execution_count": 63,
   "metadata": {
    "scrolled": true
   },
   "outputs": [],
   "source": [
    "def price(name):\n",
    "    \n",
    "    c = 0\n",
    "\n",
    "    for i in df['Price'].values:\n",
    "        if( i == name):\n",
    "            c += 1\n",
    "\n",
    "    return c"
   ]
  },
  {
   "cell_type": "code",
   "execution_count": 83,
   "metadata": {},
   "outputs": [],
   "source": [
    "dct = {}\n",
    "\n",
    "for i in df['Price'].unique():\n",
    "    var = price(i)\n",
    "    dct[i] = var"
   ]
  },
  {
   "cell_type": "code",
   "execution_count": 86,
   "metadata": {},
   "outputs": [
    {
     "data": {
      "text/plain": [
       "8719"
      ]
     },
     "execution_count": 86,
     "metadata": {},
     "output_type": "execute_result"
    }
   ],
   "source": [
    "dct['0']"
   ]
  },
  {
   "cell_type": "markdown",
   "metadata": {},
   "source": [
    "# Content Rating"
   ]
  },
  {
   "cell_type": "code",
   "execution_count": 31,
   "metadata": {},
   "outputs": [
    {
     "data": {
      "text/plain": [
       "array(['Everyone', 'Teen', 'Everyone 10+', 'Mature 17+',\n",
       "       'Adults only 18+', 'Unrated'], dtype=object)"
      ]
     },
     "execution_count": 31,
     "metadata": {},
     "output_type": "execute_result"
    }
   ],
   "source": [
    "df['Content Rating'].unique()"
   ]
  },
  {
   "cell_type": "code",
   "execution_count": 87,
   "metadata": {},
   "outputs": [],
   "source": [
    "def content_rating(name):\n",
    "    \n",
    "    c = 0\n",
    "\n",
    "    for i in df['Content Rating'].values:\n",
    "        if( i == name):\n",
    "            c += 1\n",
    "\n",
    "    return c"
   ]
  },
  {
   "cell_type": "code",
   "execution_count": 88,
   "metadata": {},
   "outputs": [],
   "source": [
    "dct = {}\n",
    "\n",
    "for i in df['Content Rating'].unique():\n",
    "    var = content_rating(i)\n",
    "    \n",
    "    dct[i] = var"
   ]
  },
  {
   "cell_type": "code",
   "execution_count": 89,
   "metadata": {},
   "outputs": [
    {
     "data": {
      "text/plain": [
       "{'Adults only 18+': 3,\n",
       " 'Everyone': 7420,\n",
       " 'Everyone 10+': 397,\n",
       " 'Mature 17+': 461,\n",
       " 'Teen': 1084,\n",
       " 'Unrated': 1}"
      ]
     },
     "execution_count": 89,
     "metadata": {},
     "output_type": "execute_result"
    }
   ],
   "source": [
    "dct"
   ]
  },
  {
   "cell_type": "markdown",
   "metadata": {},
   "source": [
    "# Genres"
   ]
  },
  {
   "cell_type": "code",
   "execution_count": 92,
   "metadata": {},
   "outputs": [],
   "source": [
    "def genres(name):\n",
    "    \n",
    "    c = 0\n",
    "\n",
    "    for i in df['Genres'].values:\n",
    "        if( i == name):\n",
    "            c += 1\n",
    "\n",
    "    return c"
   ]
  },
  {
   "cell_type": "code",
   "execution_count": 98,
   "metadata": {},
   "outputs": [],
   "source": [
    "dct = {}\n",
    "\n",
    "for i in df['Genres'].unique():\n",
    "    var = genres(i)\n",
    "    dct[i] = var"
   ]
  },
  {
   "cell_type": "code",
   "execution_count": 102,
   "metadata": {},
   "outputs": [
    {
     "data": {
      "text/plain": [
       "328"
      ]
     },
     "execution_count": 102,
     "metadata": {},
     "output_type": "execute_result"
    }
   ],
   "source": [
    "dct['Communication']"
   ]
  },
  {
   "cell_type": "code",
   "execution_count": 101,
   "metadata": {},
   "outputs": [
    {
     "data": {
      "text/plain": [
       "{'Action': 358,\n",
       " 'Action;Action & Adventure': 17,\n",
       " 'Adventure': 73,\n",
       " 'Adventure;Action & Adventure': 13,\n",
       " 'Adventure;Brain Games': 1,\n",
       " 'Adventure;Education': 2,\n",
       " 'Arcade': 207,\n",
       " 'Arcade;Action & Adventure': 15,\n",
       " 'Arcade;Pretend Play': 1,\n",
       " 'Art & Design': 56,\n",
       " 'Art & Design;Creativity': 7,\n",
       " 'Art & Design;Pretend Play': 2,\n",
       " 'Auto & Vehicles': 73,\n",
       " 'Beauty': 42,\n",
       " 'Board': 41,\n",
       " 'Board;Action & Adventure': 3,\n",
       " 'Board;Brain Games': 15,\n",
       " 'Board;Pretend Play': 1,\n",
       " 'Books & Reference': 178,\n",
       " 'Books & Reference;Education': 2,\n",
       " 'Business': 303,\n",
       " 'Card': 45,\n",
       " 'Card;Action & Adventure': 2,\n",
       " 'Card;Brain Games': 1,\n",
       " 'Casino': 37,\n",
       " 'Casual': 185,\n",
       " 'Casual;Action & Adventure': 21,\n",
       " 'Casual;Brain Games': 13,\n",
       " 'Casual;Creativity': 7,\n",
       " 'Casual;Education': 3,\n",
       " 'Casual;Music & Video': 2,\n",
       " 'Casual;Pretend Play': 31,\n",
       " 'Comics': 57,\n",
       " 'Comics;Creativity': 1,\n",
       " 'Communication': 328,\n",
       " 'Communication;Creativity': 1,\n",
       " 'Dating': 195,\n",
       " 'Education': 468,\n",
       " 'Education;Action & Adventure': 6,\n",
       " 'Education;Brain Games': 4,\n",
       " 'Education;Creativity': 7,\n",
       " 'Education;Education': 50,\n",
       " 'Education;Music & Video': 5,\n",
       " 'Education;Pretend Play': 23,\n",
       " 'Educational': 32,\n",
       " 'Educational;Action & Adventure': 4,\n",
       " 'Educational;Brain Games': 6,\n",
       " 'Educational;Creativity': 5,\n",
       " 'Educational;Education': 38,\n",
       " 'Educational;Pretend Play': 18,\n",
       " 'Entertainment': 533,\n",
       " 'Entertainment;Action & Adventure': 3,\n",
       " 'Entertainment;Brain Games': 8,\n",
       " 'Entertainment;Creativity': 3,\n",
       " 'Entertainment;Education': 1,\n",
       " 'Entertainment;Music & Video': 27,\n",
       " 'Entertainment;Pretend Play': 2,\n",
       " 'Events': 45,\n",
       " 'Finance': 323,\n",
       " 'Food & Drink': 109,\n",
       " 'Health & Fitness': 297,\n",
       " 'Health & Fitness;Action & Adventure': 1,\n",
       " 'Health & Fitness;Education': 1,\n",
       " 'House & Home': 76,\n",
       " 'Libraries & Demo': 65,\n",
       " 'Lifestyle': 313,\n",
       " 'Lifestyle;Education': 1,\n",
       " 'Lifestyle;Pretend Play': 1,\n",
       " 'Maps & Navigation': 124,\n",
       " 'Medical': 350,\n",
       " 'Music': 21,\n",
       " 'Music & Audio;Music & Video': 1,\n",
       " 'Music;Music & Video': 3,\n",
       " 'News & Magazines': 233,\n",
       " 'Parenting': 40,\n",
       " 'Parenting;Brain Games': 1,\n",
       " 'Parenting;Education': 3,\n",
       " 'Parenting;Music & Video': 6,\n",
       " 'Personalization': 314,\n",
       " 'Photography': 317,\n",
       " 'Productivity': 351,\n",
       " 'Puzzle': 121,\n",
       " 'Puzzle;Action & Adventure': 5,\n",
       " 'Puzzle;Brain Games': 19,\n",
       " 'Puzzle;Creativity': 2,\n",
       " 'Puzzle;Education': 1,\n",
       " 'Racing': 93,\n",
       " 'Racing;Action & Adventure': 20,\n",
       " 'Racing;Pretend Play': 1,\n",
       " 'Role Playing': 106,\n",
       " 'Role Playing;Action & Adventure': 7,\n",
       " 'Role Playing;Brain Games': 1,\n",
       " 'Role Playing;Pretend Play': 5,\n",
       " 'Shopping': 238,\n",
       " 'Simulation': 194,\n",
       " 'Simulation;Action & Adventure': 11,\n",
       " 'Simulation;Education': 3,\n",
       " 'Simulation;Pretend Play': 4,\n",
       " 'Social': 259,\n",
       " 'Sports': 333,\n",
       " 'Sports;Action & Adventure': 4,\n",
       " 'Strategy': 103,\n",
       " 'Strategy;Action & Adventure': 2,\n",
       " 'Strategy;Creativity': 1,\n",
       " 'Strategy;Education': 1,\n",
       " 'Tools': 733,\n",
       " 'Tools;Education': 1,\n",
       " 'Travel & Local': 225,\n",
       " 'Travel & Local;Action & Adventure': 1,\n",
       " 'Trivia': 28,\n",
       " 'Video Players & Editors': 158,\n",
       " 'Video Players & Editors;Creativity': 2,\n",
       " 'Video Players & Editors;Music & Video': 3,\n",
       " 'Weather': 75,\n",
       " 'Word': 28}"
      ]
     },
     "execution_count": 101,
     "metadata": {},
     "output_type": "execute_result"
    }
   ],
   "source": [
    "dct"
   ]
  },
  {
   "cell_type": "code",
   "execution_count": null,
   "metadata": {},
   "outputs": [],
   "source": []
  }
 ],
 "metadata": {
  "kernelspec": {
   "display_name": "Python 2",
   "language": "python",
   "name": "python2"
  },
  "language_info": {
   "codemirror_mode": {
    "name": "ipython",
    "version": 2
   },
   "file_extension": ".py",
   "mimetype": "text/x-python",
   "name": "python",
   "nbconvert_exporter": "python",
   "pygments_lexer": "ipython2",
   "version": "2.7.16"
  }
 },
 "nbformat": 4,
 "nbformat_minor": 2
}
