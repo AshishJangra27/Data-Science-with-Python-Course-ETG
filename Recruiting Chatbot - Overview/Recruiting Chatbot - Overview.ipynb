{
 "cells": [
  {
   "cell_type": "code",
   "execution_count": 6,
   "id": "8bddebba",
   "metadata": {},
   "outputs": [
    {
     "name": "stdout",
     "output_type": "stream",
     "text": [
      "Hello and welcome to Awesome Jobs.\n",
      "We will together find a better job for you.\n",
      "\n",
      "Q1. Tell me, what is your full name?\n",
      "Ashish\n",
      "Q2. Which city are you from?\n",
      "Delhi\n",
      "Q3. What's your gender?\n",
      "Male\n"
     ]
    }
   ],
   "source": [
    "print(\"Hello and welcome to Awesome Jobs.\")\n",
    "print('We will together find a better job for you.\\n')\n",
    "\n",
    "name = input('Q1. Tell me, what is your full name?\\n')\n",
    "city = input('Q2. Which city are you from?\\n')\n",
    "gend = input(\"Q3. What's your gender?\\n\")\n",
    "age  = input(\"Q4. What's your age?\\n\")\n",
    "\n",
    "print(\"\\n\")\n",
    "print(\"This is exciting.\")\n",
    "print(\"I already have found more than 300 jobs that you might like.\")\n",
    "\n",
    "job = input(\"Q5. Which kind of job do you like?\\n\")\n",
    "salary = input(\"Q6. What is your monthly salary expectations?\\n\")"
   ]
  },
  {
   "cell_type": "code",
   "execution_count": 7,
   "id": "ad1ce2e7",
   "metadata": {},
   "outputs": [],
   "source": [
    "database = {1 : {'Job' : \"Software Enginner\", \"Company\" : \"Google\"   , \"Salary\" : 18},\n",
    "            2 : {'Job' : \"Software Enginner\", \"Company\" : \"ETG\"      , \"Salary\" : 10},\n",
    "            3 : {'Job' : \"Software Enginner\", \"Company\" : \"Apple\"    , \"Salary\" : 15},\n",
    "            4 : {'Job' : \"Software Enginner\", \"Company\" : \"Microsoft\", \"Salary\" : 7}}"
   ]
  },
  {
   "cell_type": "code",
   "execution_count": null,
   "id": "48285a7a",
   "metadata": {},
   "outputs": [],
   "source": []
  }
 ],
 "metadata": {
  "kernelspec": {
   "display_name": "Python 3",
   "language": "python",
   "name": "python3"
  },
  "language_info": {
   "codemirror_mode": {
    "name": "ipython",
    "version": 3
   },
   "file_extension": ".py",
   "mimetype": "text/x-python",
   "name": "python",
   "nbconvert_exporter": "python",
   "pygments_lexer": "ipython3",
   "version": "3.8.8"
  }
 },
 "nbformat": 4,
 "nbformat_minor": 5
}
