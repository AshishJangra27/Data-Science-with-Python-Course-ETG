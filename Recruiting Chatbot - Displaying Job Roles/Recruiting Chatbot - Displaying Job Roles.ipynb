{
 "cells": [
  {
   "cell_type": "code",
   "execution_count": 47,
   "id": "5b46bc12",
   "metadata": {},
   "outputs": [],
   "source": [
    "jobs = {1 : \"Software Engineer\",\n",
    "        2 : \"Web Developers\",\n",
    "        3 : \"Android Developers\",\n",
    "        4 : \"AI Engineers\",\n",
    "        5 : \"Data Scientists\"}\n",
    "\n",
    "salaries = {1 : \"5-8\",\n",
    "            2 : \"8-10\",\n",
    "            3 : \"10-12\",\n",
    "            4 : \"12-15\",\n",
    "            5 : \"15-20\"}\n",
    "\n",
    "database = {1 : {'Job' : \"Software Engineer\" , \"Company\" : \"Google\"   , \"Salary\" : \"10-12\"},\n",
    "            2 : {'Job' : \"Data Scientists\"   , \"Company\" : \"ETG\"      , \"Salary\" : \"10-12\"},\n",
    "            3 : {'Job' : \"Web Developers\"    , \"Company\" : \"Apple\"    , \"Salary\" : \"12-15\"},\n",
    "            4 : {'Job' : \"AI Engineers\"      , \"Company\" : \"Microsoft\", \"Salary\" : \"8-10\"},\n",
    "            5 : {'Job' : \"Android Developers\", \"Company\" : \"NVIDIA\"   , \"Salary\" : \"5-8\"},\n",
    "            6 : {'Job' : \"Data Scientists\"   , \"Company\" : \"GFG\"      , \"Salary\" : \"8-10\"}}"
   ]
  },
  {
   "cell_type": "code",
   "execution_count": 64,
   "id": "81a7048a",
   "metadata": {},
   "outputs": [
    {
     "name": "stdout",
     "output_type": "stream",
     "text": [
      "Hello and welcome to Awesome Jobs.\n",
      "We will together find a better job for you.\n",
      "\n",
      "\n",
      "------------------------\n",
      "Q1. Tell me, what is your full name?\n",
      "Ashish\n",
      "Q2. Which city are you from?\n",
      "Delhi\n",
      "Q3. What's your gender?\n",
      "Male\n",
      "Q4. What's your age?\n",
      "22\n",
      "------------------------\n",
      "1 : Software Engineer\n",
      "2 : Web Developers\n",
      "3 : Android Developers\n",
      "4 : AI Engineers\n",
      "5 : Data Scientists\n",
      "------------------------\n",
      "\n",
      "Press any of the following number: 5\n",
      "------------------------\n",
      "1 : 5-8\n",
      "2 : 8-10\n",
      "3 : 10-12\n",
      "4 : 12-15\n",
      "5 : 15-20\n",
      "------------------------\n",
      "\n",
      "Q6. What is your monthly salary expectations(in CTC)?\n",
      "3\n",
      "\n",
      "\n",
      "\n",
      "----------------User Details---------------\n",
      "Name                 :  Ashish\n",
      "Age                  :  22\n",
      "Gender               :  Male\n",
      "City                 :  Delhi\n",
      "Job Role             :  Data Scientists\n",
      "Salary Expectations  :  10-12\n",
      "--------------------------------------------\n",
      "\n",
      "\n",
      "********************************************\n",
      "\n",
      "\n",
      "------------------------------\n",
      "Job Role    :  Data Scientists\n",
      "Compnay     :  ETG\n",
      "Salary(LPA) :  10-12\n",
      "------------------------------\n",
      "Job Role    :  Data Scientists\n",
      "Compnay     :  GFG\n",
      "Salary(LPA) :  8-10\n",
      "------------------------------\n"
     ]
    }
   ],
   "source": [
    "print(\"Hello and welcome to Awesome Jobs.\")\n",
    "print('We will together find a better job for you.\\n')\n",
    "\n",
    "\n",
    "print(\"\\n------------------------\")\n",
    "name = input('Q1. Tell me, what is your full name?\\n')\n",
    "city = input('Q2. Which city are you from?\\n')\n",
    "gend = input(\"Q3. What's your gender?\\n\")\n",
    "age  = input(\"Q4. What's your age?\\n\")\n",
    "print(\"------------------------\")\n",
    "for i in jobs.keys():\n",
    "    print(i, \":\" ,jobs[i])\n",
    "print(\"------------------------\\n\")\n",
    "\n",
    "job = jobs[int(input(\"Press any of the following number: \"))]\n",
    "\n",
    "\n",
    "print(\"------------------------\")\n",
    "for i in salaries.keys():\n",
    "    print(i, \":\" ,salaries[i])\n",
    "print(\"------------------------\\n\")\n",
    "\n",
    "salary = salaries[int(input(\"Q6. What is your monthly salary expectations(in CTC)?\\n\"))]\n",
    "\n",
    "print(\"\\n\\n\")\n",
    "\n",
    "\n",
    "print(\"----------------User Details---------------\")\n",
    "\n",
    "print(\"Name                 : \",name)\n",
    "print(\"Age                  : \",age)\n",
    "print(\"Gender               : \",gend)\n",
    "print(\"City                 : \",city)\n",
    "print(\"Job Role             : \",job)\n",
    "print(\"Salary Expectations  : \",salary)\n",
    "print(\"--------------------------------------------\")\n",
    "\n",
    "print(\"\\n\\n********************************************\\n\\n\")\n",
    "\n",
    "for i in database.keys():\n",
    "    if(database[i]['Job'] == job):\n",
    "        print(\"------------------------------\")\n",
    "        print(\"Job Role    : \", database[i]['Job'])\n",
    "        print(\"Compnay     : \", database[i]['Company'])\n",
    "        print(\"Salary(LPA) : \", database[i]['Salary'])\n",
    "        \n",
    "print(\"------------------------------\")"
   ]
  },
  {
   "cell_type": "code",
   "execution_count": 62,
   "id": "bdf9023e",
   "metadata": {},
   "outputs": [
    {
     "name": "stdout",
     "output_type": "stream",
     "text": [
      "Job Role  :  Data Scientists\n",
      "Compnay   :  ETG\n",
      "Salary    :  10-12\n"
     ]
    }
   ],
   "source": [
    "for i in database.keys():\n",
    "    if(database[i]['Job'] == job and database[i]['Salary'] == salary):\n",
    "        print(\"Job Role  : \", database[i]['Job'])\n",
    "        print(\"Compnay   : \", database[i]['Company'])\n",
    "        print(\"Salary    : \", database[i]['Salary'])"
   ]
  },
  {
   "cell_type": "code",
   "execution_count": 63,
   "id": "2dc4335a",
   "metadata": {},
   "outputs": [
    {
     "name": "stdout",
     "output_type": "stream",
     "text": [
      "------------------------------\n",
      "Job Role    :  Data Scientists\n",
      "Compnay     :  ETG\n",
      "Salary(LPA) :  10-12\n",
      "------------------------------\n",
      "Job Role    :  Data Scientists\n",
      "Compnay     :  GFG\n",
      "Salary(LPA) :  8-10\n",
      "------------------------------\n"
     ]
    }
   ],
   "source": []
  },
  {
   "cell_type": "code",
   "execution_count": null,
   "id": "d362290e",
   "metadata": {},
   "outputs": [],
   "source": []
  }
 ],
 "metadata": {
  "kernelspec": {
   "display_name": "Python 3",
   "language": "python",
   "name": "python3"
  },
  "language_info": {
   "codemirror_mode": {
    "name": "ipython",
    "version": 3
   },
   "file_extension": ".py",
   "mimetype": "text/x-python",
   "name": "python",
   "nbconvert_exporter": "python",
   "pygments_lexer": "ipython3",
   "version": "3.8.8"
  }
 },
 "nbformat": 4,
 "nbformat_minor": 5
}
